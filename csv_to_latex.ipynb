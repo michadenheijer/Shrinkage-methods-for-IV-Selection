{
 "cells": [
  {
   "cell_type": "code",
   "execution_count": 2,
   "metadata": {},
   "outputs": [],
   "source": [
    "import numpy as np\n",
    "import pandas as pd"
   ]
  },
  {
   "cell_type": "code",
   "execution_count": null,
   "metadata": {},
   "outputs": [
    {
     "name": "stdout",
     "output_type": "stream",
     "text": [
      "\\begin{tabular}{lrrrrrrrrrrrr}\n",
      "\\toprule\n",
      "Model & N(0) & Bias & MAD & rp(0.05) & N(0) & Bias & MAD & rp(0.05) & N(0) & Bias & MAD & rp(0.05) \\\\\n",
      "\\midrule\n",
      "ElasticNet (CV) & 0 & -0.005 & 0.279 & 0.698 & 0 & -0.006 & 0.283 & 0.724 & 0 & -0.007 & 0.419 & 0.992 \\\\\n",
      "\\bottomrule\n",
      "\\end{tabular}\n",
      "\n"
     ]
    }
   ],
   "source": [
    "# Load the csv data\n",
    "filepath = 'results/ElasticNet (CV).csv'\n",
    "data = pd.read_csv(filepath)\n",
    "\n",
    "# first apply a filter to only use rows with specific condition\n",
    "n_samples = 100\n",
    "n_instruments = 100\n",
    "concentration = 180\n",
    "correlation = 0.9\n",
    "\n",
    "data_filtered = data[(data['N samples'] == n_samples) & (data['N instruments'] == n_instruments) & (data['Concentration'] == concentration) & (data['Correlation'] == correlation)]\n",
    "\n",
    "# Now I want my latex output to first have the model name, than the results in the order N(0), Bias, MAD, rp(0.05) and then after that the same results but first for Desgin = exponential then design ==5 then design ==50\n",
    "model_name = data_filtered['Model'].iloc[0]\n",
    "resultExp = data_filtered[data_filtered['Design'] == 'Exponential']\n",
    "result5 = data_filtered[data_filtered['Design'] == '5']\n",
    "result50 = data_filtered[data_filtered['Design'] == '50']\n",
    "\n",
    "# Now add model_name and resultexp and result 5 and result 50 in one row and to a latex table\n",
    "resultTable = pd.DataFrame(columns=['Model', 'N(0)', 'Bias', 'MAD', 'rp(0.05)', 'N(0)', 'Bias', 'MAD', 'rp(0.05)', 'N(0)', 'Bias', 'MAD', 'rp(0.05)'])\n",
    "resultTable.loc[0] = [model_name, resultExp['N(0)'].iloc[0], resultExp['Bias'].iloc[0], resultExp['MAD'].iloc[0], resultExp['rp(0.05)'].iloc[0], result5['N(0)'].iloc[0], result5['Bias'].iloc[0], result5['MAD'].iloc[0], result5['rp(0.05)'].iloc[0], result50['N(0)'].iloc[0], result50['Bias'].iloc[0], result50['MAD'].iloc[0], result50['rp(0.05)'].iloc[0]]\n",
    "\n",
    "print(resultTable.to_latex(index=False, float_format=\"%.3f\"))"
   ]
  }
 ],
 "metadata": {
  "kernelspec": {
   "display_name": "venv",
   "language": "python",
   "name": "python3"
  },
  "language_info": {
   "codemirror_mode": {
    "name": "ipython",
    "version": 3
   },
   "file_extension": ".py",
   "mimetype": "text/x-python",
   "name": "python",
   "nbconvert_exporter": "python",
   "pygments_lexer": "ipython3",
   "version": "3.12.5"
  }
 },
 "nbformat": 4,
 "nbformat_minor": 2
}
